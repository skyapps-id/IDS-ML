{
 "cells": [
  {
   "cell_type": "code",
   "execution_count": 1,
   "metadata": {},
   "outputs": [],
   "source": [
    "import numpy as np\n",
    "import pandas as pd\n",
    "from collections import Counter\n",
    "from imblearn.over_sampling import RandomOverSampler\n",
    "from sklearn.model_selection import train_test_split"
   ]
  },
  {
   "cell_type": "code",
   "execution_count": 2,
   "metadata": {},
   "outputs": [],
   "source": [
    "df = pd.read_csv(r\"UNSW_2018_IoT_Botnet_V6.csv\", sep=\",\", low_memory=False)"
   ]
  },
  {
   "cell_type": "markdown",
   "metadata": {},
   "source": [
    "### Dataset Information"
   ]
  },
  {
   "cell_type": "code",
   "execution_count": 3,
   "metadata": {},
   "outputs": [
    {
     "data": {
      "text/html": [
       "<div>\n",
       "<style scoped>\n",
       "    .dataframe tbody tr th:only-of-type {\n",
       "        vertical-align: middle;\n",
       "    }\n",
       "\n",
       "    .dataframe tbody tr th {\n",
       "        vertical-align: top;\n",
       "    }\n",
       "\n",
       "    .dataframe thead th {\n",
       "        text-align: right;\n",
       "    }\n",
       "</style>\n",
       "<table border=\"1\" class=\"dataframe\">\n",
       "  <thead>\n",
       "    <tr style=\"text-align: right;\">\n",
       "      <th></th>\n",
       "      <th>pkts</th>\n",
       "      <th>bytes</th>\n",
       "      <th>dur</th>\n",
       "      <th>spkts</th>\n",
       "      <th>dpkts</th>\n",
       "      <th>sbytes</th>\n",
       "      <th>dbytes</th>\n",
       "      <th>rate</th>\n",
       "      <th>srate</th>\n",
       "      <th>drate</th>\n",
       "      <th>category</th>\n",
       "    </tr>\n",
       "  </thead>\n",
       "  <tbody>\n",
       "    <tr>\n",
       "      <th>817510</th>\n",
       "      <td>8</td>\n",
       "      <td>480</td>\n",
       "      <td>24.863705</td>\n",
       "      <td>8</td>\n",
       "      <td>0</td>\n",
       "      <td>480</td>\n",
       "      <td>0</td>\n",
       "      <td>0.281535</td>\n",
       "      <td>0.281535</td>\n",
       "      <td>0.000000</td>\n",
       "      <td>DoS-UDP</td>\n",
       "    </tr>\n",
       "    <tr>\n",
       "      <th>1464091</th>\n",
       "      <td>7</td>\n",
       "      <td>890</td>\n",
       "      <td>14.632784</td>\n",
       "      <td>6</td>\n",
       "      <td>1</td>\n",
       "      <td>830</td>\n",
       "      <td>60</td>\n",
       "      <td>0.410038</td>\n",
       "      <td>0.341698</td>\n",
       "      <td>0.000000</td>\n",
       "      <td>DDoS-TCP</td>\n",
       "    </tr>\n",
       "    <tr>\n",
       "      <th>38318</th>\n",
       "      <td>7</td>\n",
       "      <td>420</td>\n",
       "      <td>25.991417</td>\n",
       "      <td>7</td>\n",
       "      <td>0</td>\n",
       "      <td>420</td>\n",
       "      <td>0</td>\n",
       "      <td>0.230845</td>\n",
       "      <td>0.230845</td>\n",
       "      <td>0.000000</td>\n",
       "      <td>DoS-UDP</td>\n",
       "    </tr>\n",
       "    <tr>\n",
       "      <th>2900085</th>\n",
       "      <td>10</td>\n",
       "      <td>600</td>\n",
       "      <td>13.547964</td>\n",
       "      <td>10</td>\n",
       "      <td>0</td>\n",
       "      <td>600</td>\n",
       "      <td>0</td>\n",
       "      <td>0.664306</td>\n",
       "      <td>0.664306</td>\n",
       "      <td>0.000000</td>\n",
       "      <td>DDoS-UDP</td>\n",
       "    </tr>\n",
       "    <tr>\n",
       "      <th>684485</th>\n",
       "      <td>16</td>\n",
       "      <td>960</td>\n",
       "      <td>32.477962</td>\n",
       "      <td>16</td>\n",
       "      <td>0</td>\n",
       "      <td>960</td>\n",
       "      <td>0</td>\n",
       "      <td>0.461852</td>\n",
       "      <td>0.461852</td>\n",
       "      <td>0.000000</td>\n",
       "      <td>DoS-UDP</td>\n",
       "    </tr>\n",
       "    <tr>\n",
       "      <th>220398</th>\n",
       "      <td>11</td>\n",
       "      <td>660</td>\n",
       "      <td>23.753277</td>\n",
       "      <td>11</td>\n",
       "      <td>0</td>\n",
       "      <td>660</td>\n",
       "      <td>0</td>\n",
       "      <td>0.420995</td>\n",
       "      <td>0.420995</td>\n",
       "      <td>0.000000</td>\n",
       "      <td>DoS-UDP</td>\n",
       "    </tr>\n",
       "    <tr>\n",
       "      <th>3507441</th>\n",
       "      <td>9</td>\n",
       "      <td>822</td>\n",
       "      <td>49.660049</td>\n",
       "      <td>6</td>\n",
       "      <td>3</td>\n",
       "      <td>642</td>\n",
       "      <td>180</td>\n",
       "      <td>0.161095</td>\n",
       "      <td>0.100685</td>\n",
       "      <td>0.040274</td>\n",
       "      <td>DoS-TCP</td>\n",
       "    </tr>\n",
       "    <tr>\n",
       "      <th>2493404</th>\n",
       "      <td>5</td>\n",
       "      <td>300</td>\n",
       "      <td>12.163426</td>\n",
       "      <td>5</td>\n",
       "      <td>0</td>\n",
       "      <td>300</td>\n",
       "      <td>0</td>\n",
       "      <td>0.328855</td>\n",
       "      <td>0.328855</td>\n",
       "      <td>0.000000</td>\n",
       "      <td>DDoS-UDP</td>\n",
       "    </tr>\n",
       "    <tr>\n",
       "      <th>1539909</th>\n",
       "      <td>6</td>\n",
       "      <td>736</td>\n",
       "      <td>11.918358</td>\n",
       "      <td>5</td>\n",
       "      <td>1</td>\n",
       "      <td>676</td>\n",
       "      <td>60</td>\n",
       "      <td>0.419521</td>\n",
       "      <td>0.335617</td>\n",
       "      <td>0.000000</td>\n",
       "      <td>DDoS-TCP</td>\n",
       "    </tr>\n",
       "    <tr>\n",
       "      <th>1728931</th>\n",
       "      <td>6</td>\n",
       "      <td>736</td>\n",
       "      <td>10.625074</td>\n",
       "      <td>5</td>\n",
       "      <td>1</td>\n",
       "      <td>676</td>\n",
       "      <td>60</td>\n",
       "      <td>0.470585</td>\n",
       "      <td>0.376468</td>\n",
       "      <td>0.000000</td>\n",
       "      <td>DDoS-TCP</td>\n",
       "    </tr>\n",
       "  </tbody>\n",
       "</table>\n",
       "</div>"
      ],
      "text/plain": [
       "         pkts  bytes        dur  spkts  dpkts  sbytes  dbytes      rate  \\\n",
       "817510      8    480  24.863705      8      0     480       0  0.281535   \n",
       "1464091     7    890  14.632784      6      1     830      60  0.410038   \n",
       "38318       7    420  25.991417      7      0     420       0  0.230845   \n",
       "2900085    10    600  13.547964     10      0     600       0  0.664306   \n",
       "684485     16    960  32.477962     16      0     960       0  0.461852   \n",
       "220398     11    660  23.753277     11      0     660       0  0.420995   \n",
       "3507441     9    822  49.660049      6      3     642     180  0.161095   \n",
       "2493404     5    300  12.163426      5      0     300       0  0.328855   \n",
       "1539909     6    736  11.918358      5      1     676      60  0.419521   \n",
       "1728931     6    736  10.625074      5      1     676      60  0.470585   \n",
       "\n",
       "            srate     drate  category  \n",
       "817510   0.281535  0.000000   DoS-UDP  \n",
       "1464091  0.341698  0.000000  DDoS-TCP  \n",
       "38318    0.230845  0.000000   DoS-UDP  \n",
       "2900085  0.664306  0.000000  DDoS-UDP  \n",
       "684485   0.461852  0.000000   DoS-UDP  \n",
       "220398   0.420995  0.000000   DoS-UDP  \n",
       "3507441  0.100685  0.040274   DoS-TCP  \n",
       "2493404  0.328855  0.000000  DDoS-UDP  \n",
       "1539909  0.335617  0.000000  DDoS-TCP  \n",
       "1728931  0.376468  0.000000  DDoS-TCP  "
      ]
     },
     "execution_count": 3,
     "metadata": {},
     "output_type": "execute_result"
    }
   ],
   "source": [
    "df.sample(10)"
   ]
  },
  {
   "cell_type": "code",
   "execution_count": 4,
   "metadata": {},
   "outputs": [
    {
     "data": {
      "text/plain": [
       "(3577361, 11)"
      ]
     },
     "execution_count": 4,
     "metadata": {},
     "output_type": "execute_result"
    }
   ],
   "source": [
    "df.shape"
   ]
  },
  {
   "cell_type": "code",
   "execution_count": 5,
   "metadata": {},
   "outputs": [
    {
     "name": "stdout",
     "output_type": "stream",
     "text": [
      "Counter({'DoS-UDP': 1032975, 'DDoS-TCP': 977380, 'DDoS-UDP': 948255, 'DoS-TCP': 615800, 'DoS-HTTP': 1485, 'DDoS-HTTP': 989, 'Normal': 477})\n"
     ]
    }
   ],
   "source": [
    "X = df.iloc[:,:-1]\n",
    "y = df.iloc[:, -1]\n",
    "print(Counter(y))"
   ]
  },
  {
   "cell_type": "markdown",
   "metadata": {},
   "source": [
    "### RandomOverSampler "
   ]
  },
  {
   "cell_type": "code",
   "execution_count": 6,
   "metadata": {},
   "outputs": [
    {
     "name": "stdout",
     "output_type": "stream",
     "text": [
      "Counter({'DoS-UDP': 1032975, 'Normal': 1032975, 'DDoS-TCP': 977380, 'DDoS-UDP': 948255, 'DoS-TCP': 615800, 'DoS-HTTP': 1485, 'DDoS-HTTP': 989})\n"
     ]
    }
   ],
   "source": [
    "oversample = RandomOverSampler(sampling_strategy='minority')\n",
    "X_over, y_over = oversample.fit_resample(X, y)\n",
    "print(Counter(y_over))"
   ]
  },
  {
   "cell_type": "markdown",
   "metadata": {},
   "source": [
    "### Spliting "
   ]
  },
  {
   "cell_type": "code",
   "execution_count": 7,
   "metadata": {},
   "outputs": [
    {
     "name": "stdout",
     "output_type": "stream",
     "text": [
      "Counter({'DoS-UDP': 723670, 'Normal': 722441, 'DDoS-TCP': 684217, 'DDoS-UDP': 663743, 'DoS-TCP': 431100, 'DoS-HTTP': 1036, 'DDoS-HTTP': 694})\n",
      "Counter({'Normal': 310534, 'DoS-UDP': 309305, 'DDoS-TCP': 293163, 'DDoS-UDP': 284512, 'DoS-TCP': 184700, 'DoS-HTTP': 449, 'DDoS-HTTP': 295})\n"
     ]
    }
   ],
   "source": [
    "X_train_over, X_test_over, y_train_over, y_test_over = train_test_split(X_over, y_over, test_size=0.3, random_state=0)\n",
    "print(Counter(y_train_over))\n",
    "print(Counter(y_test_over))"
   ]
  },
  {
   "cell_type": "code",
   "execution_count": 8,
   "metadata": {},
   "outputs": [],
   "source": [
    "X_train_over[\"class\"] = y_train_over\n",
    "X_test_over[\"class\"] = y_test_over"
   ]
  },
  {
   "cell_type": "markdown",
   "metadata": {},
   "source": [
    "### Information spliting result"
   ]
  },
  {
   "cell_type": "code",
   "execution_count": 9,
   "metadata": {},
   "outputs": [
    {
     "data": {
      "text/html": [
       "<div>\n",
       "<style scoped>\n",
       "    .dataframe tbody tr th:only-of-type {\n",
       "        vertical-align: middle;\n",
       "    }\n",
       "\n",
       "    .dataframe tbody tr th {\n",
       "        vertical-align: top;\n",
       "    }\n",
       "\n",
       "    .dataframe thead th {\n",
       "        text-align: right;\n",
       "    }\n",
       "</style>\n",
       "<table border=\"1\" class=\"dataframe\">\n",
       "  <thead>\n",
       "    <tr style=\"text-align: right;\">\n",
       "      <th></th>\n",
       "      <th>pkts</th>\n",
       "      <th>bytes</th>\n",
       "      <th>dur</th>\n",
       "      <th>spkts</th>\n",
       "      <th>dpkts</th>\n",
       "      <th>sbytes</th>\n",
       "      <th>dbytes</th>\n",
       "      <th>rate</th>\n",
       "      <th>srate</th>\n",
       "      <th>drate</th>\n",
       "      <th>class</th>\n",
       "    </tr>\n",
       "  </thead>\n",
       "  <tbody>\n",
       "    <tr>\n",
       "      <th>1524905</th>\n",
       "      <td>5</td>\n",
       "      <td>770</td>\n",
       "      <td>13.373815</td>\n",
       "      <td>5</td>\n",
       "      <td>0</td>\n",
       "      <td>770</td>\n",
       "      <td>0</td>\n",
       "      <td>0.299092</td>\n",
       "      <td>0.299092</td>\n",
       "      <td>0.0</td>\n",
       "      <td>DDoS-TCP</td>\n",
       "    </tr>\n",
       "    <tr>\n",
       "      <th>1366872</th>\n",
       "      <td>5</td>\n",
       "      <td>770</td>\n",
       "      <td>15.905256</td>\n",
       "      <td>5</td>\n",
       "      <td>0</td>\n",
       "      <td>770</td>\n",
       "      <td>0</td>\n",
       "      <td>0.251489</td>\n",
       "      <td>0.251489</td>\n",
       "      <td>0.0</td>\n",
       "      <td>DDoS-TCP</td>\n",
       "    </tr>\n",
       "    <tr>\n",
       "      <th>2187233</th>\n",
       "      <td>9</td>\n",
       "      <td>540</td>\n",
       "      <td>12.423796</td>\n",
       "      <td>9</td>\n",
       "      <td>0</td>\n",
       "      <td>540</td>\n",
       "      <td>0</td>\n",
       "      <td>0.643926</td>\n",
       "      <td>0.643926</td>\n",
       "      <td>0.0</td>\n",
       "      <td>DDoS-UDP</td>\n",
       "    </tr>\n",
       "    <tr>\n",
       "      <th>3922742</th>\n",
       "      <td>2</td>\n",
       "      <td>120</td>\n",
       "      <td>0.000055</td>\n",
       "      <td>1</td>\n",
       "      <td>1</td>\n",
       "      <td>60</td>\n",
       "      <td>60</td>\n",
       "      <td>18181.818359</td>\n",
       "      <td>0.000000</td>\n",
       "      <td>0.0</td>\n",
       "      <td>Normal</td>\n",
       "    </tr>\n",
       "    <tr>\n",
       "      <th>3220387</th>\n",
       "      <td>3</td>\n",
       "      <td>274</td>\n",
       "      <td>0.143805</td>\n",
       "      <td>2</td>\n",
       "      <td>1</td>\n",
       "      <td>214</td>\n",
       "      <td>60</td>\n",
       "      <td>13.907722</td>\n",
       "      <td>6.953861</td>\n",
       "      <td>0.0</td>\n",
       "      <td>DoS-TCP</td>\n",
       "    </tr>\n",
       "  </tbody>\n",
       "</table>\n",
       "</div>"
      ],
      "text/plain": [
       "         pkts  bytes        dur  spkts  dpkts  sbytes  dbytes          rate  \\\n",
       "1524905     5    770  13.373815      5      0     770       0      0.299092   \n",
       "1366872     5    770  15.905256      5      0     770       0      0.251489   \n",
       "2187233     9    540  12.423796      9      0     540       0      0.643926   \n",
       "3922742     2    120   0.000055      1      1      60      60  18181.818359   \n",
       "3220387     3    274   0.143805      2      1     214      60     13.907722   \n",
       "\n",
       "            srate  drate     class  \n",
       "1524905  0.299092    0.0  DDoS-TCP  \n",
       "1366872  0.251489    0.0  DDoS-TCP  \n",
       "2187233  0.643926    0.0  DDoS-UDP  \n",
       "3922742  0.000000    0.0    Normal  \n",
       "3220387  6.953861    0.0   DoS-TCP  "
      ]
     },
     "execution_count": 9,
     "metadata": {},
     "output_type": "execute_result"
    }
   ],
   "source": [
    "X_train_over.head()"
   ]
  },
  {
   "cell_type": "code",
   "execution_count": 10,
   "metadata": {},
   "outputs": [
    {
     "data": {
      "text/plain": [
       "1524905    DDoS-TCP\n",
       "1366872    DDoS-TCP\n",
       "2187233    DDoS-UDP\n",
       "3922742      Normal\n",
       "3220387     DoS-TCP\n",
       "Name: category, dtype: object"
      ]
     },
     "execution_count": 10,
     "metadata": {},
     "output_type": "execute_result"
    }
   ],
   "source": [
    "y_train_over.head()"
   ]
  },
  {
   "cell_type": "code",
   "execution_count": 11,
   "metadata": {},
   "outputs": [
    {
     "data": {
      "text/html": [
       "<div>\n",
       "<style scoped>\n",
       "    .dataframe tbody tr th:only-of-type {\n",
       "        vertical-align: middle;\n",
       "    }\n",
       "\n",
       "    .dataframe tbody tr th {\n",
       "        vertical-align: top;\n",
       "    }\n",
       "\n",
       "    .dataframe thead th {\n",
       "        text-align: right;\n",
       "    }\n",
       "</style>\n",
       "<table border=\"1\" class=\"dataframe\">\n",
       "  <thead>\n",
       "    <tr style=\"text-align: right;\">\n",
       "      <th></th>\n",
       "      <th>pkts</th>\n",
       "      <th>bytes</th>\n",
       "      <th>dur</th>\n",
       "      <th>spkts</th>\n",
       "      <th>dpkts</th>\n",
       "      <th>sbytes</th>\n",
       "      <th>dbytes</th>\n",
       "      <th>rate</th>\n",
       "      <th>srate</th>\n",
       "      <th>drate</th>\n",
       "      <th>class</th>\n",
       "    </tr>\n",
       "  </thead>\n",
       "  <tbody>\n",
       "    <tr>\n",
       "      <th>1679885</th>\n",
       "      <td>6</td>\n",
       "      <td>736</td>\n",
       "      <td>10.750988</td>\n",
       "      <td>5</td>\n",
       "      <td>1</td>\n",
       "      <td>676</td>\n",
       "      <td>60</td>\n",
       "      <td>0.465074</td>\n",
       "      <td>0.372059</td>\n",
       "      <td>0.0</td>\n",
       "      <td>DDoS-TCP</td>\n",
       "    </tr>\n",
       "    <tr>\n",
       "      <th>3021811</th>\n",
       "      <td>4</td>\n",
       "      <td>616</td>\n",
       "      <td>28.765491</td>\n",
       "      <td>4</td>\n",
       "      <td>0</td>\n",
       "      <td>616</td>\n",
       "      <td>0</td>\n",
       "      <td>0.104292</td>\n",
       "      <td>0.104292</td>\n",
       "      <td>0.0</td>\n",
       "      <td>DoS-TCP</td>\n",
       "    </tr>\n",
       "    <tr>\n",
       "      <th>2867947</th>\n",
       "      <td>14</td>\n",
       "      <td>840</td>\n",
       "      <td>14.276105</td>\n",
       "      <td>14</td>\n",
       "      <td>0</td>\n",
       "      <td>840</td>\n",
       "      <td>0</td>\n",
       "      <td>0.910613</td>\n",
       "      <td>0.910613</td>\n",
       "      <td>0.0</td>\n",
       "      <td>DDoS-UDP</td>\n",
       "    </tr>\n",
       "    <tr>\n",
       "      <th>2234374</th>\n",
       "      <td>6</td>\n",
       "      <td>360</td>\n",
       "      <td>10.869819</td>\n",
       "      <td>6</td>\n",
       "      <td>0</td>\n",
       "      <td>360</td>\n",
       "      <td>0</td>\n",
       "      <td>0.459989</td>\n",
       "      <td>0.459989</td>\n",
       "      <td>0.0</td>\n",
       "      <td>DDoS-UDP</td>\n",
       "    </tr>\n",
       "    <tr>\n",
       "      <th>919151</th>\n",
       "      <td>7</td>\n",
       "      <td>420</td>\n",
       "      <td>24.315582</td>\n",
       "      <td>7</td>\n",
       "      <td>0</td>\n",
       "      <td>420</td>\n",
       "      <td>0</td>\n",
       "      <td>0.246755</td>\n",
       "      <td>0.246755</td>\n",
       "      <td>0.0</td>\n",
       "      <td>DoS-UDP</td>\n",
       "    </tr>\n",
       "  </tbody>\n",
       "</table>\n",
       "</div>"
      ],
      "text/plain": [
       "         pkts  bytes        dur  spkts  dpkts  sbytes  dbytes      rate  \\\n",
       "1679885     6    736  10.750988      5      1     676      60  0.465074   \n",
       "3021811     4    616  28.765491      4      0     616       0  0.104292   \n",
       "2867947    14    840  14.276105     14      0     840       0  0.910613   \n",
       "2234374     6    360  10.869819      6      0     360       0  0.459989   \n",
       "919151      7    420  24.315582      7      0     420       0  0.246755   \n",
       "\n",
       "            srate  drate     class  \n",
       "1679885  0.372059    0.0  DDoS-TCP  \n",
       "3021811  0.104292    0.0   DoS-TCP  \n",
       "2867947  0.910613    0.0  DDoS-UDP  \n",
       "2234374  0.459989    0.0  DDoS-UDP  \n",
       "919151   0.246755    0.0   DoS-UDP  "
      ]
     },
     "execution_count": 11,
     "metadata": {},
     "output_type": "execute_result"
    }
   ],
   "source": [
    "X_test_over.head()"
   ]
  },
  {
   "cell_type": "code",
   "execution_count": 12,
   "metadata": {},
   "outputs": [
    {
     "data": {
      "text/plain": [
       "1679885    DDoS-TCP\n",
       "3021811     DoS-TCP\n",
       "2867947    DDoS-UDP\n",
       "2234374    DDoS-UDP\n",
       "919151      DoS-UDP\n",
       "Name: category, dtype: object"
      ]
     },
     "execution_count": 12,
     "metadata": {},
     "output_type": "execute_result"
    }
   ],
   "source": [
    "y_test_over.head()"
   ]
  },
  {
   "cell_type": "markdown",
   "metadata": {},
   "source": [
    "### Export Data to CSV "
   ]
  },
  {
   "cell_type": "code",
   "execution_count": 13,
   "metadata": {},
   "outputs": [],
   "source": [
    "X_train_over.to_csv(\"UNSW_2018_IoT_Botnet_V6_Train.csv\", index=False)\n",
    "X_test_over.to_csv(\"UNSW_2018_IoT_Botnet_V6_Test.csv\", index=False)"
   ]
  },
  {
   "cell_type": "code",
   "execution_count": null,
   "metadata": {},
   "outputs": [],
   "source": []
  }
 ],
 "metadata": {
  "kernelspec": {
   "display_name": "Python 3",
   "language": "python",
   "name": "python3"
  },
  "language_info": {
   "codemirror_mode": {
    "name": "ipython",
    "version": 3
   },
   "file_extension": ".py",
   "mimetype": "text/x-python",
   "name": "python",
   "nbconvert_exporter": "python",
   "pygments_lexer": "ipython3",
   "version": "3.7.9"
  }
 },
 "nbformat": 4,
 "nbformat_minor": 4
}
