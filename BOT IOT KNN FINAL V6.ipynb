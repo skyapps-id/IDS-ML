{
 "cells": [
  {
   "cell_type": "code",
   "execution_count": 1,
   "metadata": {},
   "outputs": [],
   "source": [
    "import numpy as np\n",
    "import pandas as pd\n",
    "import matplotlib.pyplot as plt\n",
    "from collections import Counter\n",
    "from imblearn.over_sampling import RandomOverSampler\n",
    "from sklearn.model_selection import train_test_split\n",
    "from sklearn.neighbors import KNeighborsClassifier\n",
    "from sklearn.metrics import classification_report, confusion_matrix"
   ]
  },
  {
   "cell_type": "code",
   "execution_count": 2,
   "metadata": {},
   "outputs": [],
   "source": [
    "dfTrain = pd.read_csv(r\"UNSW_2018_IoT_Botnet_V6_Train.csv\", sep=\",\", low_memory=False)\n",
    "dfTest = pd.read_csv(r\"UNSW_2018_IoT_Botnet_V6_Test.csv\", sep=\",\", low_memory=False)"
   ]
  },
  {
   "cell_type": "markdown",
   "metadata": {},
   "source": [
    "### Dataset Information "
   ]
  },
  {
   "cell_type": "code",
   "execution_count": 3,
   "metadata": {},
   "outputs": [
    {
     "data": {
      "text/html": [
       "<div>\n",
       "<style scoped>\n",
       "    .dataframe tbody tr th:only-of-type {\n",
       "        vertical-align: middle;\n",
       "    }\n",
       "\n",
       "    .dataframe tbody tr th {\n",
       "        vertical-align: top;\n",
       "    }\n",
       "\n",
       "    .dataframe thead th {\n",
       "        text-align: right;\n",
       "    }\n",
       "</style>\n",
       "<table border=\"1\" class=\"dataframe\">\n",
       "  <thead>\n",
       "    <tr style=\"text-align: right;\">\n",
       "      <th></th>\n",
       "      <th>pkts</th>\n",
       "      <th>bytes</th>\n",
       "      <th>dur</th>\n",
       "      <th>spkts</th>\n",
       "      <th>dpkts</th>\n",
       "      <th>sbytes</th>\n",
       "      <th>dbytes</th>\n",
       "      <th>rate</th>\n",
       "      <th>srate</th>\n",
       "      <th>drate</th>\n",
       "      <th>class</th>\n",
       "    </tr>\n",
       "  </thead>\n",
       "  <tbody>\n",
       "    <tr>\n",
       "      <th>2086167</th>\n",
       "      <td>7</td>\n",
       "      <td>890</td>\n",
       "      <td>13.366152</td>\n",
       "      <td>6</td>\n",
       "      <td>1</td>\n",
       "      <td>830</td>\n",
       "      <td>60</td>\n",
       "      <td>0.448895</td>\n",
       "      <td>0.374079</td>\n",
       "      <td>0.000000</td>\n",
       "      <td>DDoS-TCP</td>\n",
       "    </tr>\n",
       "    <tr>\n",
       "      <th>1506823</th>\n",
       "      <td>4</td>\n",
       "      <td>616</td>\n",
       "      <td>31.499363</td>\n",
       "      <td>4</td>\n",
       "      <td>0</td>\n",
       "      <td>616</td>\n",
       "      <td>0</td>\n",
       "      <td>0.095240</td>\n",
       "      <td>0.095240</td>\n",
       "      <td>0.000000</td>\n",
       "      <td>DoS-TCP</td>\n",
       "    </tr>\n",
       "    <tr>\n",
       "      <th>871251</th>\n",
       "      <td>11</td>\n",
       "      <td>660</td>\n",
       "      <td>24.608917</td>\n",
       "      <td>11</td>\n",
       "      <td>0</td>\n",
       "      <td>660</td>\n",
       "      <td>0</td>\n",
       "      <td>0.406357</td>\n",
       "      <td>0.406357</td>\n",
       "      <td>0.000000</td>\n",
       "      <td>DoS-UDP</td>\n",
       "    </tr>\n",
       "    <tr>\n",
       "      <th>3175925</th>\n",
       "      <td>6</td>\n",
       "      <td>736</td>\n",
       "      <td>11.041310</td>\n",
       "      <td>5</td>\n",
       "      <td>1</td>\n",
       "      <td>676</td>\n",
       "      <td>60</td>\n",
       "      <td>0.452845</td>\n",
       "      <td>0.362276</td>\n",
       "      <td>0.000000</td>\n",
       "      <td>DDoS-TCP</td>\n",
       "    </tr>\n",
       "    <tr>\n",
       "      <th>2978241</th>\n",
       "      <td>13</td>\n",
       "      <td>1250</td>\n",
       "      <td>45.714558</td>\n",
       "      <td>9</td>\n",
       "      <td>4</td>\n",
       "      <td>1010</td>\n",
       "      <td>240</td>\n",
       "      <td>0.262498</td>\n",
       "      <td>0.174999</td>\n",
       "      <td>0.075406</td>\n",
       "      <td>DDoS-TCP</td>\n",
       "    </tr>\n",
       "    <tr>\n",
       "      <th>1682265</th>\n",
       "      <td>4</td>\n",
       "      <td>616</td>\n",
       "      <td>14.548482</td>\n",
       "      <td>4</td>\n",
       "      <td>0</td>\n",
       "      <td>616</td>\n",
       "      <td>0</td>\n",
       "      <td>0.206207</td>\n",
       "      <td>0.206207</td>\n",
       "      <td>0.000000</td>\n",
       "      <td>DDoS-TCP</td>\n",
       "    </tr>\n",
       "    <tr>\n",
       "      <th>2726451</th>\n",
       "      <td>7</td>\n",
       "      <td>420</td>\n",
       "      <td>23.336561</td>\n",
       "      <td>7</td>\n",
       "      <td>0</td>\n",
       "      <td>420</td>\n",
       "      <td>0</td>\n",
       "      <td>0.257107</td>\n",
       "      <td>0.257107</td>\n",
       "      <td>0.000000</td>\n",
       "      <td>DoS-UDP</td>\n",
       "    </tr>\n",
       "    <tr>\n",
       "      <th>1245031</th>\n",
       "      <td>13</td>\n",
       "      <td>780</td>\n",
       "      <td>26.881069</td>\n",
       "      <td>13</td>\n",
       "      <td>0</td>\n",
       "      <td>780</td>\n",
       "      <td>0</td>\n",
       "      <td>0.446411</td>\n",
       "      <td>0.446411</td>\n",
       "      <td>0.000000</td>\n",
       "      <td>DoS-UDP</td>\n",
       "    </tr>\n",
       "    <tr>\n",
       "      <th>409436</th>\n",
       "      <td>12</td>\n",
       "      <td>720</td>\n",
       "      <td>28.378925</td>\n",
       "      <td>12</td>\n",
       "      <td>0</td>\n",
       "      <td>720</td>\n",
       "      <td>0</td>\n",
       "      <td>0.387612</td>\n",
       "      <td>0.387612</td>\n",
       "      <td>0.000000</td>\n",
       "      <td>DoS-UDP</td>\n",
       "    </tr>\n",
       "    <tr>\n",
       "      <th>1622815</th>\n",
       "      <td>10</td>\n",
       "      <td>600</td>\n",
       "      <td>23.296730</td>\n",
       "      <td>10</td>\n",
       "      <td>0</td>\n",
       "      <td>600</td>\n",
       "      <td>0</td>\n",
       "      <td>0.386320</td>\n",
       "      <td>0.386320</td>\n",
       "      <td>0.000000</td>\n",
       "      <td>DoS-UDP</td>\n",
       "    </tr>\n",
       "  </tbody>\n",
       "</table>\n",
       "</div>"
      ],
      "text/plain": [
       "         pkts  bytes        dur  spkts  dpkts  sbytes  dbytes      rate  \\\n",
       "2086167     7    890  13.366152      6      1     830      60  0.448895   \n",
       "1506823     4    616  31.499363      4      0     616       0  0.095240   \n",
       "871251     11    660  24.608917     11      0     660       0  0.406357   \n",
       "3175925     6    736  11.041310      5      1     676      60  0.452845   \n",
       "2978241    13   1250  45.714558      9      4    1010     240  0.262498   \n",
       "1682265     4    616  14.548482      4      0     616       0  0.206207   \n",
       "2726451     7    420  23.336561      7      0     420       0  0.257107   \n",
       "1245031    13    780  26.881069     13      0     780       0  0.446411   \n",
       "409436     12    720  28.378925     12      0     720       0  0.387612   \n",
       "1622815    10    600  23.296730     10      0     600       0  0.386320   \n",
       "\n",
       "            srate     drate     class  \n",
       "2086167  0.374079  0.000000  DDoS-TCP  \n",
       "1506823  0.095240  0.000000   DoS-TCP  \n",
       "871251   0.406357  0.000000   DoS-UDP  \n",
       "3175925  0.362276  0.000000  DDoS-TCP  \n",
       "2978241  0.174999  0.075406  DDoS-TCP  \n",
       "1682265  0.206207  0.000000  DDoS-TCP  \n",
       "2726451  0.257107  0.000000   DoS-UDP  \n",
       "1245031  0.446411  0.000000   DoS-UDP  \n",
       "409436   0.387612  0.000000   DoS-UDP  \n",
       "1622815  0.386320  0.000000   DoS-UDP  "
      ]
     },
     "execution_count": 3,
     "metadata": {},
     "output_type": "execute_result"
    }
   ],
   "source": [
    "dfTrain.sample(10)"
   ]
  },
  {
   "cell_type": "code",
   "execution_count": 4,
   "metadata": {},
   "outputs": [
    {
     "data": {
      "text/html": [
       "<div>\n",
       "<style scoped>\n",
       "    .dataframe tbody tr th:only-of-type {\n",
       "        vertical-align: middle;\n",
       "    }\n",
       "\n",
       "    .dataframe tbody tr th {\n",
       "        vertical-align: top;\n",
       "    }\n",
       "\n",
       "    .dataframe thead th {\n",
       "        text-align: right;\n",
       "    }\n",
       "</style>\n",
       "<table border=\"1\" class=\"dataframe\">\n",
       "  <thead>\n",
       "    <tr style=\"text-align: right;\">\n",
       "      <th></th>\n",
       "      <th>pkts</th>\n",
       "      <th>bytes</th>\n",
       "      <th>dur</th>\n",
       "      <th>spkts</th>\n",
       "      <th>dpkts</th>\n",
       "      <th>sbytes</th>\n",
       "      <th>dbytes</th>\n",
       "      <th>rate</th>\n",
       "      <th>srate</th>\n",
       "      <th>drate</th>\n",
       "      <th>class</th>\n",
       "    </tr>\n",
       "  </thead>\n",
       "  <tbody>\n",
       "    <tr>\n",
       "      <th>213646</th>\n",
       "      <td>4</td>\n",
       "      <td>428</td>\n",
       "      <td>10.567626</td>\n",
       "      <td>3</td>\n",
       "      <td>1</td>\n",
       "      <td>368</td>\n",
       "      <td>60</td>\n",
       "      <td>0.283886</td>\n",
       "      <td>0.189257</td>\n",
       "      <td>0.0</td>\n",
       "      <td>DDoS-TCP</td>\n",
       "    </tr>\n",
       "    <tr>\n",
       "      <th>762586</th>\n",
       "      <td>2</td>\n",
       "      <td>883</td>\n",
       "      <td>0.164240</td>\n",
       "      <td>1</td>\n",
       "      <td>1</td>\n",
       "      <td>81</td>\n",
       "      <td>802</td>\n",
       "      <td>6.088651</td>\n",
       "      <td>0.000000</td>\n",
       "      <td>0.0</td>\n",
       "      <td>Normal</td>\n",
       "    </tr>\n",
       "    <tr>\n",
       "      <th>500734</th>\n",
       "      <td>2</td>\n",
       "      <td>172</td>\n",
       "      <td>2.501092</td>\n",
       "      <td>2</td>\n",
       "      <td>0</td>\n",
       "      <td>172</td>\n",
       "      <td>0</td>\n",
       "      <td>0.399825</td>\n",
       "      <td>0.399825</td>\n",
       "      <td>0.0</td>\n",
       "      <td>Normal</td>\n",
       "    </tr>\n",
       "    <tr>\n",
       "      <th>29611</th>\n",
       "      <td>4</td>\n",
       "      <td>428</td>\n",
       "      <td>9.898661</td>\n",
       "      <td>3</td>\n",
       "      <td>1</td>\n",
       "      <td>368</td>\n",
       "      <td>60</td>\n",
       "      <td>0.303071</td>\n",
       "      <td>0.202048</td>\n",
       "      <td>0.0</td>\n",
       "      <td>DDoS-TCP</td>\n",
       "    </tr>\n",
       "    <tr>\n",
       "      <th>266887</th>\n",
       "      <td>3</td>\n",
       "      <td>274</td>\n",
       "      <td>0.189911</td>\n",
       "      <td>2</td>\n",
       "      <td>1</td>\n",
       "      <td>214</td>\n",
       "      <td>60</td>\n",
       "      <td>10.531249</td>\n",
       "      <td>5.265625</td>\n",
       "      <td>0.0</td>\n",
       "      <td>DDoS-TCP</td>\n",
       "    </tr>\n",
       "    <tr>\n",
       "      <th>1329486</th>\n",
       "      <td>2</td>\n",
       "      <td>233</td>\n",
       "      <td>0.000190</td>\n",
       "      <td>1</td>\n",
       "      <td>1</td>\n",
       "      <td>79</td>\n",
       "      <td>154</td>\n",
       "      <td>5263.157715</td>\n",
       "      <td>0.000000</td>\n",
       "      <td>0.0</td>\n",
       "      <td>Normal</td>\n",
       "    </tr>\n",
       "    <tr>\n",
       "      <th>198139</th>\n",
       "      <td>12</td>\n",
       "      <td>720</td>\n",
       "      <td>27.214230</td>\n",
       "      <td>12</td>\n",
       "      <td>0</td>\n",
       "      <td>720</td>\n",
       "      <td>0</td>\n",
       "      <td>0.404200</td>\n",
       "      <td>0.404200</td>\n",
       "      <td>0.0</td>\n",
       "      <td>DoS-UDP</td>\n",
       "    </tr>\n",
       "    <tr>\n",
       "      <th>978518</th>\n",
       "      <td>1</td>\n",
       "      <td>83</td>\n",
       "      <td>0.000000</td>\n",
       "      <td>1</td>\n",
       "      <td>0</td>\n",
       "      <td>83</td>\n",
       "      <td>0</td>\n",
       "      <td>0.000000</td>\n",
       "      <td>0.000000</td>\n",
       "      <td>0.0</td>\n",
       "      <td>Normal</td>\n",
       "    </tr>\n",
       "    <tr>\n",
       "      <th>700420</th>\n",
       "      <td>2</td>\n",
       "      <td>308</td>\n",
       "      <td>10.074455</td>\n",
       "      <td>2</td>\n",
       "      <td>0</td>\n",
       "      <td>308</td>\n",
       "      <td>0</td>\n",
       "      <td>0.099261</td>\n",
       "      <td>0.099261</td>\n",
       "      <td>0.0</td>\n",
       "      <td>DDoS-TCP</td>\n",
       "    </tr>\n",
       "    <tr>\n",
       "      <th>730292</th>\n",
       "      <td>8</td>\n",
       "      <td>480</td>\n",
       "      <td>24.821020</td>\n",
       "      <td>8</td>\n",
       "      <td>0</td>\n",
       "      <td>480</td>\n",
       "      <td>0</td>\n",
       "      <td>0.282019</td>\n",
       "      <td>0.282019</td>\n",
       "      <td>0.0</td>\n",
       "      <td>DoS-UDP</td>\n",
       "    </tr>\n",
       "  </tbody>\n",
       "</table>\n",
       "</div>"
      ],
      "text/plain": [
       "         pkts  bytes        dur  spkts  dpkts  sbytes  dbytes         rate  \\\n",
       "213646      4    428  10.567626      3      1     368      60     0.283886   \n",
       "762586      2    883   0.164240      1      1      81     802     6.088651   \n",
       "500734      2    172   2.501092      2      0     172       0     0.399825   \n",
       "29611       4    428   9.898661      3      1     368      60     0.303071   \n",
       "266887      3    274   0.189911      2      1     214      60    10.531249   \n",
       "1329486     2    233   0.000190      1      1      79     154  5263.157715   \n",
       "198139     12    720  27.214230     12      0     720       0     0.404200   \n",
       "978518      1     83   0.000000      1      0      83       0     0.000000   \n",
       "700420      2    308  10.074455      2      0     308       0     0.099261   \n",
       "730292      8    480  24.821020      8      0     480       0     0.282019   \n",
       "\n",
       "            srate  drate     class  \n",
       "213646   0.189257    0.0  DDoS-TCP  \n",
       "762586   0.000000    0.0    Normal  \n",
       "500734   0.399825    0.0    Normal  \n",
       "29611    0.202048    0.0  DDoS-TCP  \n",
       "266887   5.265625    0.0  DDoS-TCP  \n",
       "1329486  0.000000    0.0    Normal  \n",
       "198139   0.404200    0.0   DoS-UDP  \n",
       "978518   0.000000    0.0    Normal  \n",
       "700420   0.099261    0.0  DDoS-TCP  \n",
       "730292   0.282019    0.0   DoS-UDP  "
      ]
     },
     "execution_count": 4,
     "metadata": {},
     "output_type": "execute_result"
    }
   ],
   "source": [
    "dfTest.sample(10)"
   ]
  },
  {
   "cell_type": "markdown",
   "metadata": {},
   "source": [
    "### Train Dataset "
   ]
  },
  {
   "cell_type": "code",
   "execution_count": 3,
   "metadata": {},
   "outputs": [
    {
     "name": "stdout",
     "output_type": "stream",
     "text": [
      "Counter({'DoS-UDP': 723670, 'Normal': 722441, 'DDoS-TCP': 684217, 'DDoS-UDP': 663743, 'DoS-TCP': 431100, 'DoS-HTTP': 1036, 'DDoS-HTTP': 694})\n"
     ]
    }
   ],
   "source": [
    "X_train = dfTrain.iloc[:,:-1]\n",
    "y_train = dfTrain.iloc[:, -1].values\n",
    "print(Counter(y_train))"
   ]
  },
  {
   "cell_type": "code",
   "execution_count": 4,
   "metadata": {},
   "outputs": [
    {
     "name": "stdout",
     "output_type": "stream",
     "text": [
      "Counter({'Normal': 310534, 'DoS-UDP': 309305, 'DDoS-TCP': 293163, 'DDoS-UDP': 284512, 'DoS-TCP': 184700, 'DoS-HTTP': 449, 'DDoS-HTTP': 295})\n"
     ]
    }
   ],
   "source": [
    "X_test = dfTest.iloc[:,:-1]\n",
    "y_test = dfTest.iloc[:, -1].values\n",
    "print(Counter(y_test))"
   ]
  },
  {
   "cell_type": "markdown",
   "metadata": {},
   "source": [
    "#### Searching Best Value K "
   ]
  },
  {
   "cell_type": "code",
   "execution_count": 5,
   "metadata": {},
   "outputs": [
    {
     "name": "stdout",
     "output_type": "stream",
     "text": [
      "[3, 5, 7, 9, 11]\n"
     ]
    },
    {
     "data": {
      "text/plain": [
       "<matplotlib.legend.Legend at 0x1db12518d88>"
      ]
     },
     "execution_count": 5,
     "metadata": {},
     "output_type": "execute_result"
    },
    {
     "data": {
      "image/png": "[encoded data removed]",
      "text/plain": [
       "<Figure size 432x288 with 1 Axes>"
      ]
     },
     "metadata": {
      "needs_background": "light"
     },
     "output_type": "display_data"
    }
   ],
   "source": [
    "training_accuracy = []\n",
    "test_accuracy = []\n",
    "neighbors_settings = [3, 5, 7, 9, 11]\n",
    "print(neighbors_settings)\n",
    "for n_neighbors in neighbors_settings:\n",
    "# build the model\n",
    "    clf = KNeighborsClassifier(n_neighbors=n_neighbors)\n",
    "    clf.fit(X_train, y_train)\n",
    "    # record training set accuracy\n",
    "    training_accuracy.append(clf.score(X_train, y_train))\n",
    "    # record generalization accuracy\n",
    "    test_accuracy.append(clf.score(X_test, y_test))\n",
    "plt.plot(neighbors_settings, training_accuracy, label=\"training accuracy\")\n",
    "plt.plot(neighbors_settings, test_accuracy, label=\"test accuracy\")\n",
    "plt.ylabel(\"Accuracy\")\n",
    "plt.xlabel(\"n_neighbors\")\n",
    "plt.legend()"
   ]
  },
  {
   "cell_type": "code",
   "execution_count": 6,
   "metadata": {},
   "outputs": [
    {
     "name": "stdout",
     "output_type": "stream",
     "text": [
      "Wall time: 45.8 s\n"
     ]
    },
    {
     "data": {
      "text/plain": [
       "KNeighborsClassifier(n_neighbors=7)"
      ]
     },
     "execution_count": 6,
     "metadata": {},
     "output_type": "execute_result"
    }
   ],
   "source": [
    "%%time\n",
    "model = KNeighborsClassifier(n_neighbors=7)\n",
    "model.fit(X_train, y_train)"
   ]
  },
  {
   "cell_type": "markdown",
   "metadata": {},
   "source": [
    "### Model Summary "
   ]
  },
  {
   "cell_type": "code",
   "execution_count": 7,
   "metadata": {},
   "outputs": [],
   "source": [
    "y_pred = model.predict(X_test)"
   ]
  },
  {
   "cell_type": "code",
   "execution_count": 8,
   "metadata": {},
   "outputs": [
    {
     "name": "stdout",
     "output_type": "stream",
     "text": [
      "[[   196      0      0     99      0      0      0]\n",
      " [     0 292645      0      0    517      0      1]\n",
      " [     0      1 284507      0      1      3      0]\n",
      " [   101      0      0    346      0      0      2]\n",
      " [     0    353      1      2 184343      0      1]\n",
      " [     2      5      4      1      1 309289      3]\n",
      " [     0      0      0      0      0      0 310534]]\n",
      "              precision    recall  f1-score   support\n",
      "\n",
      "   DDoS-HTTP     0.6555    0.6644    0.6599       295\n",
      "    DDoS-TCP     0.9988    0.9982    0.9985    293163\n",
      "    DDoS-UDP     1.0000    1.0000    1.0000    284512\n",
      "    DoS-HTTP     0.7723    0.7706    0.7715       449\n",
      "     DoS-TCP     0.9972    0.9981    0.9976    184700\n",
      "     DoS-UDP     1.0000    0.9999    1.0000    309305\n",
      "      Normal     1.0000    1.0000    1.0000    310534\n",
      "\n",
      "    accuracy                         0.9992   1382958\n",
      "   macro avg     0.9177    0.9187    0.9182   1382958\n",
      "weighted avg     0.9992    0.9992    0.9992   1382958\n",
      "\n"
     ]
    }
   ],
   "source": [
    "print(confusion_matrix(y_test, y_pred))\n",
    "print(classification_report(y_test, y_pred, digits=4))"
   ]
  },
  {
   "cell_type": "markdown",
   "metadata": {},
   "source": [
    "### Dateset Test Prediction "
   ]
  },
  {
   "cell_type": "code",
   "execution_count": 11,
   "metadata": {},
   "outputs": [
    {
     "name": "stdout",
     "output_type": "stream",
     "text": [
      "Classification Data\n",
      "Accurate : 1381860 Loss : 1098\n"
     ]
    }
   ],
   "source": [
    "a = 0\n",
    "b = 0\n",
    "for x in range(0, len(y_pred)):\n",
    "    if (y_pred[x] == y_test[x]):\n",
    "        a += 1\n",
    "    else:\n",
    "        b += 1\n",
    "print('Classification Data')\n",
    "print('Accurate :',a, 'Loss :',b)"
   ]
  },
  {
   "cell_type": "code",
   "execution_count": 12,
   "metadata": {},
   "outputs": [
    {
     "name": "stdout",
     "output_type": "stream",
     "text": [
      "Classification Data\n",
      "DDoS-TCP : 292645 DDoS-UDP : 284507 DoS-TCP : 184343 DoS-UDP : 309289 DDoS-HTTP : 196 DoS-HTTP : 346 Normal : 310534\n",
      "DDoS-TCP-Loss : 518 DDoS-UDP-Loss : 5 DoS-TCP-Loss : 357 DoS-UDP-Loss : 16 DDoS-HTTP-Loss : 99 DoS-HTTP-Loss : 103 Normal-Loss : 0\n",
      "Success : 1381860 Loss : 1098\n"
     ]
    }
   ],
   "source": [
    "DDoS_TCP = 0\n",
    "DDoS_UDP = 0\n",
    "DoS_TCP = 0\n",
    "DoS_UDP = 0\n",
    "DDoS_HTTP = 0\n",
    "DoS_HTTP = 0\n",
    "Normal = 0\n",
    "DDoS_TCP_Loss = 0\n",
    "DDoS_UDP_Loss = 0\n",
    "DoS_TCP_Loss = 0\n",
    "DoS_UDP_Loss = 0\n",
    "DDoS_HTTP_Loss = 0\n",
    "DoS_HTTP_Loss = 0\n",
    "Normal_Loss = 0\n",
    "success=0\n",
    "loss = 0\n",
    "\n",
    "for x in range(0, len(y_pred)):\n",
    "    if (y_pred[x] == y_test[x]):\n",
    "        success += 1\n",
    "        if (y_pred[x] == 'DDoS-TCP'):\n",
    "            DDoS_TCP += 1\n",
    "        elif (y_pred[x] == 'DDoS-UDP'):\n",
    "            DDoS_UDP += 1\n",
    "        elif (y_pred[x] == 'DoS-TCP'):\n",
    "            DoS_TCP += 1\n",
    "        elif (y_pred[x] == 'DoS-UDP'):\n",
    "            DoS_UDP += 1\n",
    "        elif (y_pred[x] == 'DDoS-HTTP'):\n",
    "          DDoS_HTTP += 1\n",
    "        elif (y_pred[x] == 'DoS-HTTP'):\n",
    "          DoS_HTTP += 1\n",
    "        elif (y_pred[x] == 'Normal'):\n",
    "            Normal += 1\n",
    "    elif (y_pred[x] != y_test[x]):\n",
    "        loss += 1\n",
    "        if (y_test[x] == 'DDoS-TCP'):\n",
    "            DDoS_TCP_Loss += 1\n",
    "        elif (y_test[x] == 'DDoS-UDP'):\n",
    "            DDoS_UDP_Loss += 1\n",
    "        elif (y_test[x] == 'DoS-TCP'):\n",
    "            DoS_TCP_Loss += 1\n",
    "        elif (y_test[x] == 'DoS-UDP'):\n",
    "            DoS_UDP_Loss += 1\n",
    "        elif (y_test[x] == 'DDoS-HTTP'):\n",
    "            DDoS_HTTP_Loss += 1\n",
    "        elif (y_test[x] == 'DoS-HTTP'):\n",
    "            DoS_HTTP_Loss += 1\n",
    "        elif (y_test[x] == 'Normal'):\n",
    "            Normal_Loss += 1\n",
    "print('Classification Data')\n",
    "print('DDoS-TCP :',DDoS_TCP, 'DDoS-UDP :',DDoS_UDP, 'DoS-TCP :',DoS_TCP, 'DoS-UDP :',DoS_UDP, 'DDoS-HTTP :',DDoS_HTTP, 'DoS-HTTP :',DoS_HTTP, 'Normal :',Normal)\n",
    "print('DDoS-TCP-Loss :',DDoS_TCP_Loss, 'DDoS-UDP-Loss :',DDoS_UDP_Loss,'DoS-TCP-Loss :',DoS_TCP_Loss, 'DoS-UDP-Loss :',DoS_UDP_Loss, 'DDoS-HTTP-Loss :',DDoS_HTTP_Loss, 'DoS-HTTP-Loss :',DoS_HTTP_Loss, 'Normal-Loss :',Normal_Loss)\n",
    "print('Success :', success, 'Loss :', loss)"
   ]
  },
  {
   "cell_type": "code",
   "execution_count": null,
   "metadata": {},
   "outputs": [],
   "source": []
  }
 ],
 "metadata": {
  "kernelspec": {
   "display_name": "Python 3",
   "language": "python",
   "name": "python3"
  },
  "language_info": {
   "codemirror_mode": {
    "name": "ipython",
    "version": 3
   },
   "file_extension": ".py",
   "mimetype": "text/x-python",
   "name": "python",
   "nbconvert_exporter": "python",
   "pygments_lexer": "ipython3",
   "version": "3.7.9"
  }
 },
 "nbformat": 4,
 "nbformat_minor": 4
}
